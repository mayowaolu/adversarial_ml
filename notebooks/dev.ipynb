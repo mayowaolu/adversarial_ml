{
 "cells": [
  {
   "cell_type": "code",
   "execution_count": 34,
   "metadata": {},
   "outputs": [],
   "source": [
    "import torch\n",
    "import torchvision\n",
    "from torch.utils.data import DataLoader, random_split\n",
    "from torchvision import datasets, transforms\n",
    "\n",
    "import numpy as np\n",
    "import matplotlib.pyplot as plt\n",
    "import torch.nn as nn\n",
    "import torch.nn.functional as F\n",
    "import torch.optim as optim\n",
    "from torch.optim.lr_scheduler import MultiStepLR\n",
    "\n",
    "from tqdm import tqdm"
   ]
  },
  {
   "cell_type": "code",
   "execution_count": 33,
   "metadata": {},
   "outputs": [
    {
     "name": "stdout",
     "output_type": "stream",
     "text": [
      "Mon Apr 14 16:55:54 2025       \n",
      "+-----------------------------------------------------------------------------------------+\n",
      "| NVIDIA-SMI 560.35.05              Driver Version: 560.35.05      CUDA Version: 12.6     |\n",
      "|-----------------------------------------+------------------------+----------------------+\n",
      "| GPU  Name                 Persistence-M | Bus-Id          Disp.A | Volatile Uncorr. ECC |\n",
      "| Fan  Temp   Perf          Pwr:Usage/Cap |           Memory-Usage | GPU-Util  Compute M. |\n",
      "|                                         |                        |               MIG M. |\n",
      "|=========================================+========================+======================|\n",
      "|   0  NVIDIA A100-SXM4-80GB          Off |   00000000:01:00.0 Off |                   On |\n",
      "| N/A   24C    P0             59W /  500W |    1841MiB /  81920MiB |     N/A      Default |\n",
      "|                                         |                        |            Disabled* |\n",
      "+-----------------------------------------+------------------------+----------------------+\n",
      "|   1  NVIDIA A100-SXM4-80GB          Off |   00000000:41:00.0 Off |                   On |\n",
      "| N/A   27C    P0             50W /  500W |      88MiB /  81920MiB |     N/A      Default |\n",
      "|                                         |                        |            Disabled* |\n",
      "+-----------------------------------------+------------------------+----------------------+\n",
      "|   2  NVIDIA A100-SXM4-80GB          Off |   00000000:81:00.0 Off |                   On |\n",
      "| N/A   26C    P0             47W /  500W |      88MiB /  81920MiB |     N/A      Default |\n",
      "|                                         |                        |            Disabled* |\n",
      "+-----------------------------------------+------------------------+----------------------+\n",
      "|   3  NVIDIA A100-SXM4-80GB          Off |   00000000:C1:00.0 Off |                   On |\n",
      "| N/A   24C    P0             59W /  500W |    4649MiB /  81920MiB |     N/A      Default |\n",
      "|                                         |                        |            Disabled* |\n",
      "+-----------------------------------------+------------------------+----------------------+\n",
      "\n",
      "+-----------------------------------------------------------------------------------------+\n",
      "| MIG devices:                                                                            |\n",
      "+------------------+----------------------------------+-----------+-----------------------+\n",
      "| GPU  GI  CI  MIG |                     Memory-Usage |        Vol|        Shared         |\n",
      "|      ID  ID  Dev |                       BAR1-Usage | SM     Unc| CE ENC  DEC  OFA  JPG |\n",
      "|                  |                                  |        ECC|                       |\n",
      "|==================+==================================+===========+=======================|\n",
      "|  0    2   0   0  |            1791MiB / 40192MiB    | 42      0 |  3   0    2    0    0 |\n",
      "|                  |                 2MiB / 65535MiB  |           |                       |\n",
      "+------------------+----------------------------------+-----------+-----------------------+\n",
      "|  0    3   0   1  |              25MiB / 19968MiB    | 28      0 |  2   0    1    0    0 |\n",
      "|                  |                 0MiB / 32767MiB  |           |                       |\n",
      "+------------------+----------------------------------+-----------+-----------------------+\n",
      "|  0    9   0   2  |              13MiB /  9728MiB    | 14      0 |  1   0    0    0    0 |\n",
      "|                  |                 0MiB / 16383MiB  |           |                       |\n",
      "+------------------+----------------------------------+-----------+-----------------------+\n",
      "|  0   10   0   3  |              13MiB /  9728MiB    | 14      0 |  1   0    0    0    0 |\n",
      "|                  |                 0MiB / 16383MiB  |           |                       |\n",
      "+------------------+----------------------------------+-----------+-----------------------+\n",
      "|  1    2   0   0  |              38MiB / 40192MiB    | 42      0 |  3   0    2    0    0 |\n",
      "|                  |                 0MiB / 65535MiB  |           |                       |\n",
      "+------------------+----------------------------------+-----------+-----------------------+\n",
      "|  1    3   0   1  |              25MiB / 19968MiB    | 28      0 |  2   0    1    0    0 |\n",
      "|                  |                 0MiB / 32767MiB  |           |                       |\n",
      "+------------------+----------------------------------+-----------+-----------------------+\n",
      "|  1    9   0   2  |              13MiB /  9728MiB    | 14      0 |  1   0    0    0    0 |\n",
      "|                  |                 0MiB / 16383MiB  |           |                       |\n",
      "+------------------+----------------------------------+-----------+-----------------------+\n",
      "|  1   10   0   3  |              13MiB /  9728MiB    | 14      0 |  1   0    0    0    0 |\n",
      "|                  |                 0MiB / 16383MiB  |           |                       |\n",
      "+------------------+----------------------------------+-----------+-----------------------+\n",
      "|  2    2   0   0  |              38MiB / 40192MiB    | 42      0 |  3   0    2    0    0 |\n",
      "|                  |                 0MiB / 65535MiB  |           |                       |\n",
      "+------------------+----------------------------------+-----------+-----------------------+\n",
      "|  2    3   0   1  |              25MiB / 19968MiB    | 28      0 |  2   0    1    0    0 |\n",
      "|                  |                 0MiB / 32767MiB  |           |                       |\n",
      "+------------------+----------------------------------+-----------+-----------------------+\n",
      "|  2    9   0   2  |              13MiB /  9728MiB    | 14      0 |  1   0    0    0    0 |\n",
      "|                  |                 0MiB / 16383MiB  |           |                       |\n",
      "+------------------+----------------------------------+-----------+-----------------------+\n",
      "|  2   10   0   3  |              13MiB /  9728MiB    | 14      0 |  1   0    0    0    0 |\n",
      "|                  |                 0MiB / 16383MiB  |           |                       |\n",
      "+------------------+----------------------------------+-----------+-----------------------+\n",
      "|  3    1   0   0  |            4599MiB / 40192MiB    | 42      0 |  3   0    2    0    0 |\n",
      "|                  |                 2MiB / 65535MiB  |           |                       |\n",
      "+------------------+----------------------------------+-----------+-----------------------+\n",
      "|  3    5   0   1  |              25MiB / 19968MiB    | 28      0 |  2   0    1    0    0 |\n",
      "|                  |                 0MiB / 32767MiB  |           |                       |\n",
      "+------------------+----------------------------------+-----------+-----------------------+\n",
      "|  3   13   0   2  |              13MiB /  9728MiB    | 14      0 |  1   0    0    0    0 |\n",
      "|                  |                 0MiB / 16383MiB  |           |                       |\n",
      "+------------------+----------------------------------+-----------+-----------------------+\n",
      "|  3   14   0   3  |              13MiB /  9728MiB    | 14      0 |  1   0    0    0    0 |\n",
      "|                  |                 0MiB / 16383MiB  |           |                       |\n",
      "+------------------+----------------------------------+-----------+-----------------------+\n",
      "                                                                                         \n",
      "+-----------------------------------------------------------------------------------------+\n",
      "| Processes:                                                                              |\n",
      "|  GPU   GI   CI        PID   Type   Process name                              GPU Memory |\n",
      "|        ID   ID                                                               Usage      |\n",
      "|=========================================================================================|\n",
      "|    0    2    0    3608709      C   ...useti/.venvs/pytorch-env/bin/python       1744MiB |\n",
      "|    3    1    0    3427820      C   ...0.3.0/python-3.9.9-jh/bin/python3.9       4552MiB |\n",
      "+-----------------------------------------------------------------------------------------+\n"
     ]
    }
   ],
   "source": [
    "!nvidia-smi"
   ]
  },
  {
   "cell_type": "code",
   "execution_count": 3,
   "metadata": {},
   "outputs": [],
   "source": [
    "import os\n",
    "os.environ[\"CUDA_VISIBLE_DEVICES\"]=\"0\"\n",
    "device = \"cuda\" if torch.cuda.is_available() else \"cpu\""
   ]
  },
  {
   "cell_type": "markdown",
   "metadata": {},
   "source": [
    "## Data Loading"
   ]
  },
  {
   "cell_type": "code",
   "execution_count": 4,
   "metadata": {},
   "outputs": [],
   "source": [
    "# # LOCAL CLUSTER DIRECTORY FILE LOADING\n",
    "# import pickle\n",
    "\n",
    "# # Function to unpickle the dataset files\n",
    "# def unpickle(file):\n",
    "#     with open(file, 'rb') as fo:\n",
    "#         data_dict = pickle.load(fo, encoding='bytes')\n",
    "#     return data_dict\n",
    "\n",
    "# # Function to load all data batches\n",
    "# def load_data(batch_files):\n",
    "#     all_data = []\n",
    "#     all_labels = []\n",
    "#     for batch_file in batch_files:\n",
    "#         batch_file = DATASET_PATH + batch_file\n",
    "#         batch = unpickle(batch_file)\n",
    "#         all_data.append(batch[b'data'])  # Image data\n",
    "#         all_labels.append(batch[b'labels'])  # Labels\n",
    "#     data = np.concatenate(all_data)\n",
    "#     labels = np.concatenate(all_labels)\n",
    "#     return data, labels\n",
    "\n",
    "# # Function to reshape image data\n",
    "# def reshape_images(data):\n",
    "#     # Reshape from (10000, 3072) to (10000, 32, 32, 3)\n",
    "#     data = data.reshape(-1, 3, 32, 32)  # (10000, 3, 32, 32)\n",
    "#     data = data.transpose(0, 2, 3, 1)  # (10000, 32, 32, 3)\n",
    "#     return data\n",
    "\n",
    "# # Load metadata (label names)\n",
    "# def load_meta(file):\n",
    "#     file = DATASET_PATH + file\n",
    "#     meta = unpickle(file)\n",
    "#     label_names = [name.decode('utf-8') for name in meta[b'label_names']]  # Decode bytes to strings\n",
    "#     return label_names\n",
    "\n",
    "# # Example usage\n",
    "# # Files for the training batches and metadata\n",
    "# batch_files = ['data_batch_1', 'data_batch_2', 'data_batch_3', 'data_batch_4', 'data_batch_5']\n",
    "# DATASET_PATH = \"/datasets/CS747/cifar-10-batches-py/\"\n",
    "# test_batch_file = 'test_batch'\n",
    "# meta_file = 'batches.meta'\n",
    "\n",
    "# # Load training data\n",
    "# data, labels = load_data(batch_files)\n",
    "# data = reshape_images(data)  # Reshape image data into (10000, 32, 32, 3)\n",
    "\n",
    "# # Load test data\n",
    "# test_data, test_labels = load_data([test_batch_file])\n",
    "# test_data = reshape_images(test_data)  # Reshape test data into (10000, 32, 32, 3)\n",
    "\n",
    "# # Load label names (metadata)\n",
    "# label_names = load_meta(meta_file)\n",
    "\n",
    "# # Example of accessing one image and its label:\n",
    "# image_index = 3\n",
    "# image = data[image_index]  # 32x32x3 image\n",
    "# label = labels[image_index]\n",
    "# label_name = label_names[label]\n",
    "\n",
    "# print(f\"Image shape: {image.shape}, Label: {label}, Label name: {label_name}\")"
   ]
  },
  {
   "cell_type": "code",
   "execution_count": 17,
   "metadata": {},
   "outputs": [],
   "source": [
    "# setup data loader\n",
    "transform_train = transforms.Compose([\n",
    "    transforms.RandomCrop(32, padding=4),\n",
    "    transforms.RandomHorizontalFlip(),\n",
    "    transforms.ToTensor(),\n",
    "])\n",
    "transform_test = transforms.Compose([\n",
    "    transforms.ToTensor(),\n",
    "])\n",
    "\n",
    "\n",
    "# LOAD FROM TORCHVISION\n",
    "\n",
    "train_mnist = datasets.MNIST(root='./data', download=True, train=True, transform=transforms.ToTensor())\n",
    "test_mnist = datasets.MNIST(root='./data', download=True, train=False, transform=transforms.ToTensor())\n",
    "\n",
    "\n",
    "#transform = transforms.Compose([transforms.ToTensor(), transforms.Normalize((0.5, 0.5, 0.5), (0.5, 0.5, 0.5))])\n",
    "full_train_cifar = datasets.CIFAR10(root='./data', download=True, train=True, transform=transform_train)\n",
    "test_cifar = datasets.CIFAR10(root='./data', download=True, train=False, transform=transform_test)"
   ]
  },
  {
   "cell_type": "code",
   "execution_count": 18,
   "metadata": {},
   "outputs": [],
   "source": [
    "BATCH_SIZE = 128"
   ]
  },
  {
   "cell_type": "code",
   "execution_count": 19,
   "metadata": {},
   "outputs": [],
   "source": [
    "# Calculate sizes for split (e.g., 90% training, 10% validation)\n",
    "num_train = int(0.9 * len(full_train_cifar))  # 45,000 images\n",
    "num_val = len(full_train_cifar) - num_train    # 5,000 images\n",
    "\n",
    "train_dataset, val_dataset = random_split(full_train_cifar, [num_train, num_val])\n",
    "\n",
    "train_loader_cifar = DataLoader(dataset=train_dataset, batch_size=BATCH_SIZE, shuffle=True)\n",
    "val_loader_cifar = DataLoader(dataset=val_dataset, batch_size=BATCH_SIZE*2, shuffle=False)\n",
    "test_loader_cifar = DataLoader(dataset=test_cifar, batch_size=BATCH_SIZE*2, shuffle=False)\n",
    "\n",
    "train_loader_mnist = DataLoader(dataset=train_mnist, batch_size=BATCH_SIZE, shuffle=True)"
   ]
  },
  {
   "cell_type": "code",
   "execution_count": 20,
   "metadata": {},
   "outputs": [],
   "source": [
    "# MNIST CNN CONFIGS\n",
    "\n",
    "mnist_cnn_config = {\n",
    "    \"learning_rate\" : 0.01, # learning rate\n",
    "    \"weight_decay\" : 3.5e-5,\n",
    "    }\n",
    "\n",
    "cifar_config = {\n",
    "    \"learning_rate\" : 0.01,\n",
    "    \"weight_decay\" : 3.5e-5,\n",
    "    \"epochs\": 100\n",
    "}\n",
    "\n"
   ]
  },
  {
   "cell_type": "code",
   "execution_count": 21,
   "metadata": {},
   "outputs": [],
   "source": [
    "from collections import OrderedDict\n",
    "import torch.nn as nn\n",
    "\n",
    "\n",
    "class SmallCNN(nn.Module):\n",
    "    def __init__(self, drop=0.5):\n",
    "        super(SmallCNN, self).__init__()\n",
    "\n",
    "        self.num_channels = 1\n",
    "        self.num_labels = 10\n",
    "\n",
    "        activ = nn.ReLU(True)\n",
    "\n",
    "        self.feature_extractor = nn.Sequential(OrderedDict([\n",
    "            ('conv1', nn.Conv2d(self.num_channels, 32, 3)),\n",
    "            ('relu1', activ),\n",
    "            ('conv2', nn.Conv2d(32, 32, 3)),\n",
    "            ('relu2', activ),\n",
    "            ('maxpool1', nn.MaxPool2d(2, 2)),\n",
    "            ('conv3', nn.Conv2d(32, 64, 3)),\n",
    "            ('relu3', activ),\n",
    "            ('conv4', nn.Conv2d(64, 64, 3)),\n",
    "            ('relu4', activ),\n",
    "            ('maxpool2', nn.MaxPool2d(2, 2)),\n",
    "        ]))\n",
    "\n",
    "        self.classifier = nn.Sequential(OrderedDict([\n",
    "            ('fc1', nn.Linear(64 * 4 * 4, 200)),\n",
    "            ('relu1', activ),\n",
    "            ('drop', nn.Dropout(drop)),\n",
    "            ('fc2', nn.Linear(200, 200)),\n",
    "            ('relu2', activ),\n",
    "            ('fc3', nn.Linear(200, self.num_labels)),\n",
    "        ]))\n",
    "\n",
    "        for m in self.modules():\n",
    "            if isinstance(m, (nn.Conv2d)):\n",
    "                nn.init.kaiming_normal_(m.weight)\n",
    "                if m.bias is not None:\n",
    "                    nn.init.constant_(m.bias, 0)\n",
    "            elif isinstance(m, nn.BatchNorm2d):\n",
    "                nn.init.constant_(m.weight, 1)\n",
    "                nn.init.constant_(m.bias, 0)\n",
    "        nn.init.constant_(self.classifier.fc3.weight, 0)\n",
    "        nn.init.constant_(self.classifier.fc3.bias, 0)\n",
    "\n",
    "    def forward(self, input):\n",
    "        features = self.feature_extractor(input)\n",
    "        #print(features.shape)\n",
    "        logits = self.classifier(features.view(-1, 64 * 4 * 4))\n",
    "        return logits"
   ]
  },
  {
   "cell_type": "code",
   "execution_count": 22,
   "metadata": {},
   "outputs": [],
   "source": [
    "## Resnet Model\n",
    "\n",
    "class BasicBlock(nn.Module):\n",
    "    expansion = 1\n",
    "\n",
    "    def __init__(self, in_channels, out_channels, stride=1):\n",
    "        super().__init__()\n",
    "        self.conv1 = nn.Conv2d(in_channels=in_channels, out_channels=out_channels, kernel_size=3, stride=stride, padding=1, bias=False)\n",
    "        self.bn1 = nn.BatchNorm2d(out_channels)\n",
    "        self.conv2 = nn.Conv2d(in_channels=out_channels, out_channels=out_channels, kernel_size=3, stride=1, padding=1, bias=False)\n",
    "        self.bn2 = nn.BatchNorm2d(out_channels)\n",
    "\n",
    "        self.residual = nn.Sequential()\n",
    "        if stride != 1 or in_channels != self.expansion * out_channels:\n",
    "            self.residual = nn.Sequential(\n",
    "                nn.Conv2d(in_channels, self.expansion * out_channels, kernel_size=1, stride=stride, bias=False),\n",
    "                nn.BatchNorm2d(self.expansion * out_channels)\n",
    "            )\n",
    "    \n",
    "    def forward(self, x):\n",
    "        out = F.relu(self.bn1(self.conv1(x)), inplace=True)\n",
    "        out = F.relu(self.bn2(self.conv2(out)), inplace=True)\n",
    "        out = out + self.residual(x)\n",
    "        out = F.relu(out, inplace=True)\n",
    "        return out\n",
    "\n",
    "\n",
    "class ResNet(nn.Module):\n",
    "    def __init__(self, block: BasicBlock, num_blocks: list[int], num_classes: int=10):\n",
    "        super().__init__()\n",
    "        self.in_channels = 64\n",
    "\n",
    "        self.conv1 = nn.Conv2d(in_channels=3, out_channels=64, kernel_size=3, stride=1, padding=1, bias=False)\n",
    "        self.bn1 = nn.BatchNorm2d(64)\n",
    "        self.layer0 = self.make_layer(block, 64, num_blocks[0], stride=1)\n",
    "        self.layer1 = self.make_layer(block, 128, num_blocks[1], stride=2)\n",
    "        self.layer2 = self.make_layer(block, 256, num_blocks[2], stride=2)\n",
    "        self.layer3 = self.make_layer(block, 512, num_blocks[3], stride=2)\n",
    "        self.linear = nn.Linear(512 * block.expansion, num_classes)\n",
    "\n",
    "\n",
    "    \n",
    "    def make_layer(self, block, out_channels, num_blocks, stride):\n",
    "        layers = []\n",
    "\n",
    "        layers.append(block(self.in_channels, out_channels, stride=stride))\n",
    "        self.in_channels = out_channels * block.expansion\n",
    "\n",
    "        for _ in range(1, num_blocks):\n",
    "            layers.append(block(self.in_channels, out_channels))\n",
    "        \n",
    "        return nn.Sequential(*layers)\n",
    "    \n",
    "    def forward(self, x):\n",
    "        out = F.relu(self.bn1(self.conv1(x)), inplace=True)\n",
    "        out = self.layer0(out)\n",
    "        out = self.layer1(out)\n",
    "        out = self.layer2(out)\n",
    "        out = self.layer3(out)\n",
    "        out = F.avg_pool2d(out, 4)\n",
    "        out = out.view(out.size(0), -1)\n",
    "        logits = self.linear(out)\n",
    "        return logits\n",
    "\n",
    "def ResNet18():\n",
    "    return ResNet(BasicBlock, [2,2,2,2])\n"
   ]
  },
  {
   "cell_type": "code",
   "execution_count": 23,
   "metadata": {},
   "outputs": [],
   "source": [
    "#model_test = ResNet18().to(device)"
   ]
  },
  {
   "cell_type": "code",
   "execution_count": 24,
   "metadata": {},
   "outputs": [],
   "source": [
    "# x_rand = torch.randn((1, 3, 32, 32)).cuda()\n",
    "# print(x_rand.shape)\n",
    "# output = model_test(x_rand)\n",
    "# print(output.shape)"
   ]
  },
  {
   "cell_type": "code",
   "execution_count": null,
   "metadata": {},
   "outputs": [],
   "source": [
    "def train_one_epoch(model,  dataloader, criterion, optimizer, device, max_grad_norm=None):\n",
    "    model.train()\n",
    "\n",
    "    running_loss = 0.0\n",
    "    running_corrects = 0\n",
    "    total_samples = 0\n",
    "\n",
    "    for images, labels in tqdm(dataloader, desc=\"Training\", leave=False):\n",
    "\n",
    "        images = images.to(device)\n",
    "        labels = labels.to(device)\n",
    "\n",
    "        optimizer.zero_grad()\n",
    "\n",
    "        # Forward pass\n",
    "        outputs = model(images)\n",
    "        loss = criterion(outputs, labels)\n",
    "        loss.backward()\n",
    "        \n",
    "        if max_grad_norm:\n",
    "            torch.nn.utils.clip_grad_norm_(model.parameters(), max_grad_norm)\n",
    "\n",
    "        optimizer.step()\n",
    "\n",
    "        running_loss += loss.item() * images.size(0)\n",
    "        preds = torch.argmax(outputs.detach(), -1)\n",
    "        running_corrects += torch.sum(preds == labels.data)\n",
    "        total_samples += images.size(0)\n",
    "\n",
    "    epoch_loss = running_loss / total_samples\n",
    "    epoch_acc = running_corrects / total_samples\n",
    "    return epoch_loss, epoch_acc\n",
    "\n",
    "def validate(model, dataloader, criterion, device):\n",
    "    model.eval()\n",
    "    running_loss = 0.0\n",
    "    running_corrects = 0.0\n",
    "    total_samples = 0\n",
    "\n",
    "    with torch.no_grad():\n",
    "        for images, labels in tqdm(dataloader, desc = 'Validation', leave=False):\n",
    "            images = images.to(device)\n",
    "            labels = labels.to(device)\n",
    "\n",
    "            outputs = model(images)\n",
    "            loss = criterion(outputs, labels)\n",
    "            running_loss += loss.item() * images.size(0)\n",
    "\n",
    "            preds = torch.argmax(outputs, -1)\n",
    "            running_corrects += torch.sum((preds == labels)).item()\n",
    "            total_samples += labels.size(0)\n",
    "        \n",
    "        epoch_loss = running_loss / total_samples\n",
    "        epoch_acc = running_corrects / total_samples\n",
    "\n",
    "        return epoch_loss, epoch_acc\n",
    "\n",
    "# def adjust_learning_rate(optimizer, epoch, config):\n",
    "#     \"\"\"decrease the learning rate\"\"\"\n",
    "#     lr = config[\"learning_rate\"]\n",
    "\n",
    "#     if epoch >= 100:\n",
    "#         lr = config[\"learning_rate\"] * 0.001\n",
    "#     elif epoch >= 90:\n",
    "#         lr = config[\"learning_rate\"] * 0.01\n",
    "#     elif epoch >= 75:\n",
    "#         lr = config[\"learning_rate\"] * 0.1\n",
    "\n",
    "#     for param_group in optimizer.param_groups:\n",
    "#         param_group['lr'] = lr"
   ]
  },
  {
   "cell_type": "code",
   "execution_count": null,
   "metadata": {},
   "outputs": [],
   "source": [
    "def save_checkpoint(model, optimizer, epoch, val_loss, checkpoint_dir, top_checkpoints, max_checkpoints=5):\n",
    "    \"\"\"\n",
    "    Save a checkpoint if it's among the top best ones.\n",
    "    \n",
    "    Args:\n",
    "        model (torch.nn.Module): The model to save.\n",
    "        optimizer (torch.optim.Optimizer): The optimizer state to save.\n",
    "        epoch (int): The current epoch.\n",
    "        val_loss (float): The validation loss metric used for ranking.\n",
    "        checkpoint_dir (str): Directory to save the checkpoints.\n",
    "        top_checkpoints (list): List of tuples (val_loss, filename) for current top checkpoints.\n",
    "        max_checkpoints (int, optional): Maximum number of checkpoints to save. Defaults to 5.\n",
    "    \"\"\"\n",
    "    # Ensure the checkpoint directory exists.\n",
    "    os.makedirs(checkpoint_dir, exist_ok=True)\n",
    "    \n",
    "    # Construct a filename that contains the epoch and validation loss.\n",
    "    checkpoint_filename = os.path.join(checkpoint_dir, f\"model_epoch_{epoch+1}_valloss_{val_loss:.4f}.pth\")\n",
    "    \n",
    "    # Create the checkpoint dictionary\n",
    "    checkpoint = {\n",
    "        'epoch': epoch,\n",
    "        'model_state_dict': model.state_dict(),\n",
    "        'optimizer_state_dict': optimizer.state_dict(),\n",
    "        'val_loss': val_loss,\n",
    "    }\n",
    "    \n",
    "    # Save checkpoint to disk\n",
    "    torch.save(checkpoint, checkpoint_filename)\n",
    "    \n",
    "    # Add the checkpoint to your top checkpoints list (we assume lower loss is better)\n",
    "    top_checkpoints.append((val_loss, checkpoint_filename))\n",
    "    \n",
    "    # Sort the checkpoints by validation loss (ascending order)\n",
    "    top_checkpoints.sort(key=lambda x: x[0])\n",
    "    \n",
    "    # If more than max_checkpoints, delete the worst checkpoint (last one in sorted list)\n",
    "    if len(top_checkpoints) > max_checkpoints:\n",
    "        worst_checkpoint = top_checkpoints.pop()  # pop the highest loss checkpoint\n",
    "        if os.path.exists(worst_checkpoint[1]):\n",
    "            os.remove(worst_checkpoint[1])\n",
    "            print(f\"Removed checkpoint: {worst_checkpoint[1]}\")"
   ]
  },
  {
   "cell_type": "code",
   "execution_count": null,
   "metadata": {},
   "outputs": [],
   "source": [
    "def train_model(model, train_loader, val_loader, config, scheduler=None, device=\"cuda\"):\n",
    "    num_epochs = config[\"epochs\"]\n",
    "    \n",
    "    top_checkpoints = []\n",
    "    checkpoint_dir = config.get(\"checkpoint_dir\", \"./checkpoints\")\n",
    "\n",
    "    history = {\n",
    "        \"train_loss\" : [],\n",
    "        \"train_acc\" : [],\n",
    "        \"val_loss\" : [],\n",
    "        \"val_acc\" : []\n",
    "    }\n",
    "\n",
    "    criterion = nn.CrossEntropyLoss()\n",
    "\n",
    "    optimizer = optim.SGD(model.parameters(), \n",
    "                    lr = config[\"learning_rate\"], \n",
    "                    momentum= 0.9,\n",
    "                    weight_decay=config[\"weight_decay\"])\n",
    "\n",
    "    scheduler = MultiStepLR(optimizer=optimizer, milestones= [75, 90, 100], gamma=0.1)\n",
    "    \n",
    "    for epoch in range(1, num_epochs+1):\n",
    "        print(f\"Epoch {epoch}/{num_epochs}\")\n",
    "\n",
    "        #adjust_learning_rate(optimizer, epoch, config=config)\n",
    "\n",
    "        train_loss, train_acc = train_one_epoch(\n",
    "            model = model, dataloader = train_loader, \n",
    "            criterion=criterion, optimizer=optimizer, \n",
    "            device=device, max_grad_norm=1.0\n",
    "        )\n",
    "\n",
    "        val_loss, val_acc = validate(model=model, dataloader=val_loader, criterion=criterion, device=device)\n",
    "\n",
    "        history[\"train_loss\"].append(train_loss)\n",
    "        history[\"train_acc\"].append(train_acc)\n",
    "        history[\"val_loss\"].append(val_loss)\n",
    "        history[\"val_acc\"].append(val_acc)\n",
    "\n",
    "        print(f\"Epoch [{epoch+1}/{config['num_epochs']}] | \"\n",
    "              f\"LR: {scheduler.get_last_lr()[0]:.6f} | \"\n",
    "              f\"Train Loss: {train_loss:.4f} | Train Acc: {train_acc*100:.2f}% | \"\n",
    "              f\"Val Loss: {val_loss:.4f} | Val Acc: {val_acc*100:.2f}%\")\n",
    "\n",
    "        if scheduler:\n",
    "            scheduler.step()\n",
    "\n",
    "        save_checkpoint(model, optimizer, epoch, val_loss, checkpoint_dir, top_checkpoints, max_checkpoints=5)\n",
    "        \n",
    "    \n",
    "\n",
    "    return model, history, top_checkpoints"
   ]
  },
  {
   "cell_type": "code",
   "execution_count": null,
   "metadata": {},
   "outputs": [],
   "source": [
    "def main():\n",
    "    model = ResNet18().to(device)\n",
    "\n",
    "    model, history = train_model(model, \n",
    "                                 train_loader=train_loader_cifar, \n",
    "                                 val_loader=val_loader_cifar,\n",
    "                                 config= cifar_config\n",
    "    )\n",
    "\n",
    "    print(\"Training Done\")\n",
    "    print('================================================================')\n",
    "\n",
    "    test_loss, test_acc = validate(model, dataloader=test_loader_cifar, criterion=nn.CrossEntropyLoss(), device=device)\n",
    "    print(f\"Test accuracy: {test_acc}, Test loss: {test_loss}\")\n",
    "\n",
    "    return history\n"
   ]
  },
  {
   "cell_type": "code",
   "execution_count": null,
   "metadata": {},
   "outputs": [],
   "source": [
    "if __name__ == '__main__':\n",
    "    main()"
   ]
  },
  {
   "cell_type": "code",
   "execution_count": 32,
   "metadata": {},
   "outputs": [
    {
     "name": "stdout",
     "output_type": "stream",
     "text": [
      "Epoch 1/100\n"
     ]
    },
    {
     "name": "stderr",
     "output_type": "stream",
     "text": [
      "Training:   0%|          | 0/352 [00:00<?, ?it/s]"
     ]
    },
    {
     "name": "stderr",
     "output_type": "stream",
     "text": [
      "                                                           \r"
     ]
    },
    {
     "name": "stdout",
     "output_type": "stream",
     "text": [
      "Train Loss: 1.5860, Train Acc: 41.17%\n",
      "Val Loss:   1.5004, Val Acc:   44.54%\n",
      "Best model updated at epoch 1\n",
      "Epoch 2/100\n"
     ]
    },
    {
     "name": "stderr",
     "output_type": "stream",
     "text": [
      "                                                           \r"
     ]
    },
    {
     "name": "stdout",
     "output_type": "stream",
     "text": [
      "Train Loss: 1.1647, Train Acc: 57.83%\n",
      "Val Loss:   1.2083, Val Acc:   57.50%\n",
      "Best model updated at epoch 2\n",
      "Epoch 3/100\n"
     ]
    },
    {
     "name": "stderr",
     "output_type": "stream",
     "text": [
      "                                                           \r"
     ]
    },
    {
     "name": "stdout",
     "output_type": "stream",
     "text": [
      "Train Loss: 0.9714, Train Acc: 65.34%\n",
      "Val Loss:   1.1449, Val Acc:   59.84%\n",
      "Best model updated at epoch 3\n",
      "Epoch 4/100\n"
     ]
    },
    {
     "name": "stderr",
     "output_type": "stream",
     "text": [
      "                                                           \r"
     ]
    },
    {
     "name": "stdout",
     "output_type": "stream",
     "text": [
      "Train Loss: 0.8460, Train Acc: 69.89%\n",
      "Val Loss:   1.4956, Val Acc:   53.96%\n",
      "Epoch 5/100\n"
     ]
    },
    {
     "name": "stderr",
     "output_type": "stream",
     "text": [
      "                                                           \r"
     ]
    },
    {
     "name": "stdout",
     "output_type": "stream",
     "text": [
      "Train Loss: 0.7446, Train Acc: 73.59%\n",
      "Val Loss:   2.1229, Val Acc:   46.92%\n",
      "Epoch 6/100\n"
     ]
    },
    {
     "name": "stderr",
     "output_type": "stream",
     "text": [
      "                                                           \r"
     ]
    },
    {
     "name": "stdout",
     "output_type": "stream",
     "text": [
      "Train Loss: 0.6633, Train Acc: 76.64%\n",
      "Val Loss:   0.8579, Val Acc:   70.32%\n",
      "Best model updated at epoch 6\n",
      "Epoch 7/100\n"
     ]
    },
    {
     "name": "stderr",
     "output_type": "stream",
     "text": [
      "                                                           \r"
     ]
    },
    {
     "name": "stdout",
     "output_type": "stream",
     "text": [
      "Train Loss: 0.6140, Train Acc: 78.24%\n",
      "Val Loss:   1.0093, Val Acc:   66.42%\n",
      "Epoch 8/100\n"
     ]
    },
    {
     "name": "stderr",
     "output_type": "stream",
     "text": [
      "                                                           \r"
     ]
    },
    {
     "name": "stdout",
     "output_type": "stream",
     "text": [
      "Train Loss: 0.5562, Train Acc: 80.49%\n",
      "Val Loss:   0.9331, Val Acc:   69.82%\n",
      "Epoch 9/100\n"
     ]
    },
    {
     "name": "stderr",
     "output_type": "stream",
     "text": [
      "                                                           \r"
     ]
    },
    {
     "name": "stdout",
     "output_type": "stream",
     "text": [
      "Train Loss: 0.5186, Train Acc: 81.90%\n",
      "Val Loss:   0.8185, Val Acc:   72.96%\n",
      "Best model updated at epoch 9\n",
      "Epoch 10/100\n"
     ]
    },
    {
     "name": "stderr",
     "output_type": "stream",
     "text": [
      "                                                           \r"
     ]
    },
    {
     "name": "stdout",
     "output_type": "stream",
     "text": [
      "Train Loss: 0.4831, Train Acc: 83.25%\n",
      "Val Loss:   0.8790, Val Acc:   71.74%\n",
      "Epoch 11/100\n"
     ]
    },
    {
     "name": "stderr",
     "output_type": "stream",
     "text": [
      "                                                           \r"
     ]
    },
    {
     "name": "stdout",
     "output_type": "stream",
     "text": [
      "Train Loss: 0.4500, Train Acc: 84.32%\n",
      "Val Loss:   0.7543, Val Acc:   75.30%\n",
      "Best model updated at epoch 11\n",
      "Epoch 12/100\n"
     ]
    },
    {
     "name": "stderr",
     "output_type": "stream",
     "text": [
      "                                                           \r"
     ]
    },
    {
     "name": "stdout",
     "output_type": "stream",
     "text": [
      "Train Loss: 0.4196, Train Acc: 85.38%\n",
      "Val Loss:   0.7361, Val Acc:   74.76%\n",
      "Best model updated at epoch 12\n",
      "Epoch 13/100\n"
     ]
    },
    {
     "name": "stderr",
     "output_type": "stream",
     "text": [
      "                                                           \r"
     ]
    },
    {
     "name": "stdout",
     "output_type": "stream",
     "text": [
      "Train Loss: 0.3994, Train Acc: 86.07%\n",
      "Val Loss:   0.7447, Val Acc:   75.18%\n",
      "Epoch 14/100\n"
     ]
    },
    {
     "name": "stderr",
     "output_type": "stream",
     "text": [
      "                                                           \r"
     ]
    },
    {
     "name": "stdout",
     "output_type": "stream",
     "text": [
      "Train Loss: 0.3757, Train Acc: 87.05%\n",
      "Val Loss:   0.6221, Val Acc:   79.38%\n",
      "Best model updated at epoch 14\n",
      "Epoch 15/100\n"
     ]
    },
    {
     "name": "stderr",
     "output_type": "stream",
     "text": [
      "                                                           \r"
     ]
    },
    {
     "name": "stdout",
     "output_type": "stream",
     "text": [
      "Train Loss: 0.3547, Train Acc: 87.65%\n",
      "Val Loss:   0.4980, Val Acc:   83.06%\n",
      "Best model updated at epoch 15\n",
      "Epoch 16/100\n"
     ]
    },
    {
     "name": "stderr",
     "output_type": "stream",
     "text": [
      "                                                           \r"
     ]
    },
    {
     "name": "stdout",
     "output_type": "stream",
     "text": [
      "Train Loss: 0.3355, Train Acc: 88.38%\n",
      "Val Loss:   0.5582, Val Acc:   81.64%\n",
      "Epoch 17/100\n"
     ]
    },
    {
     "name": "stderr",
     "output_type": "stream",
     "text": [
      "                                                           \r"
     ]
    },
    {
     "name": "stdout",
     "output_type": "stream",
     "text": [
      "Train Loss: 0.3171, Train Acc: 89.15%\n",
      "Val Loss:   0.4884, Val Acc:   83.84%\n",
      "Best model updated at epoch 17\n",
      "Epoch 18/100\n"
     ]
    },
    {
     "name": "stderr",
     "output_type": "stream",
     "text": [
      "                                                           \r"
     ]
    },
    {
     "name": "stdout",
     "output_type": "stream",
     "text": [
      "Train Loss: 0.3004, Train Acc: 89.53%\n",
      "Val Loss:   0.5105, Val Acc:   82.94%\n",
      "Epoch 19/100\n"
     ]
    },
    {
     "name": "stderr",
     "output_type": "stream",
     "text": [
      "                                                           \r"
     ]
    },
    {
     "name": "stdout",
     "output_type": "stream",
     "text": [
      "Train Loss: 0.2842, Train Acc: 90.15%\n",
      "Val Loss:   0.5001, Val Acc:   84.26%\n",
      "Epoch 20/100\n"
     ]
    },
    {
     "name": "stderr",
     "output_type": "stream",
     "text": [
      "                                                           \r"
     ]
    },
    {
     "name": "stdout",
     "output_type": "stream",
     "text": [
      "Train Loss: 0.2697, Train Acc: 90.64%\n",
      "Val Loss:   0.5960, Val Acc:   81.70%\n",
      "Epoch 21/100\n"
     ]
    },
    {
     "name": "stderr",
     "output_type": "stream",
     "text": [
      "                                                           \r"
     ]
    },
    {
     "name": "stdout",
     "output_type": "stream",
     "text": [
      "Train Loss: 0.2588, Train Acc: 90.96%\n",
      "Val Loss:   0.5833, Val Acc:   81.32%\n",
      "Epoch 22/100\n"
     ]
    },
    {
     "name": "stderr",
     "output_type": "stream",
     "text": [
      "                                                           \r"
     ]
    },
    {
     "name": "stdout",
     "output_type": "stream",
     "text": [
      "Train Loss: 0.2489, Train Acc: 91.25%\n",
      "Val Loss:   0.4889, Val Acc:   84.64%\n",
      "Epoch 23/100\n"
     ]
    },
    {
     "name": "stderr",
     "output_type": "stream",
     "text": [
      "                                                           \r"
     ]
    },
    {
     "name": "stdout",
     "output_type": "stream",
     "text": [
      "Train Loss: 0.2330, Train Acc: 91.83%\n",
      "Val Loss:   0.6075, Val Acc:   81.12%\n",
      "Epoch 24/100\n"
     ]
    },
    {
     "name": "stderr",
     "output_type": "stream",
     "text": [
      "                                                           \r"
     ]
    },
    {
     "name": "stdout",
     "output_type": "stream",
     "text": [
      "Train Loss: 0.2219, Train Acc: 92.33%\n",
      "Val Loss:   0.4891, Val Acc:   84.38%\n",
      "Epoch 25/100\n"
     ]
    },
    {
     "name": "stderr",
     "output_type": "stream",
     "text": [
      "                                                           \r"
     ]
    },
    {
     "name": "stdout",
     "output_type": "stream",
     "text": [
      "Train Loss: 0.2173, Train Acc: 92.38%\n",
      "Val Loss:   0.4646, Val Acc:   85.10%\n",
      "Best model updated at epoch 25\n",
      "Epoch 26/100\n"
     ]
    },
    {
     "name": "stderr",
     "output_type": "stream",
     "text": [
      "                                                           \r"
     ]
    },
    {
     "name": "stdout",
     "output_type": "stream",
     "text": [
      "Train Loss: 0.2090, Train Acc: 92.71%\n",
      "Val Loss:   0.5253, Val Acc:   84.20%\n",
      "Epoch 27/100\n"
     ]
    },
    {
     "name": "stderr",
     "output_type": "stream",
     "text": [
      "                                                           \r"
     ]
    },
    {
     "name": "stdout",
     "output_type": "stream",
     "text": [
      "Train Loss: 0.2012, Train Acc: 93.09%\n",
      "Val Loss:   0.4439, Val Acc:   86.10%\n",
      "Best model updated at epoch 27\n",
      "Epoch 28/100\n"
     ]
    },
    {
     "name": "stderr",
     "output_type": "stream",
     "text": [
      "                                                           \r"
     ]
    },
    {
     "name": "stdout",
     "output_type": "stream",
     "text": [
      "Train Loss: 0.1907, Train Acc: 93.38%\n",
      "Val Loss:   0.4432, Val Acc:   85.96%\n",
      "Best model updated at epoch 28\n",
      "Epoch 29/100\n"
     ]
    },
    {
     "name": "stderr",
     "output_type": "stream",
     "text": [
      "                                                           \r"
     ]
    },
    {
     "name": "stdout",
     "output_type": "stream",
     "text": [
      "Train Loss: 0.1825, Train Acc: 93.70%\n",
      "Val Loss:   0.4650, Val Acc:   85.90%\n",
      "Epoch 30/100\n"
     ]
    },
    {
     "name": "stderr",
     "output_type": "stream",
     "text": [
      "                                                           \r"
     ]
    },
    {
     "name": "stdout",
     "output_type": "stream",
     "text": [
      "Train Loss: 0.1717, Train Acc: 93.97%\n",
      "Val Loss:   0.4807, Val Acc:   85.44%\n",
      "Epoch 31/100\n"
     ]
    },
    {
     "name": "stderr",
     "output_type": "stream",
     "text": [
      "                                                           \r"
     ]
    },
    {
     "name": "stdout",
     "output_type": "stream",
     "text": [
      "Train Loss: 0.1659, Train Acc: 94.25%\n",
      "Val Loss:   0.4889, Val Acc:   85.06%\n",
      "Epoch 32/100\n"
     ]
    },
    {
     "name": "stderr",
     "output_type": "stream",
     "text": [
      "                                                           \r"
     ]
    },
    {
     "name": "stdout",
     "output_type": "stream",
     "text": [
      "Train Loss: 0.1578, Train Acc: 94.52%\n",
      "Val Loss:   0.4798, Val Acc:   85.90%\n",
      "Epoch 33/100\n"
     ]
    },
    {
     "name": "stderr",
     "output_type": "stream",
     "text": [
      "                                                           \r"
     ]
    },
    {
     "name": "stdout",
     "output_type": "stream",
     "text": [
      "Train Loss: 0.1536, Train Acc: 94.53%\n",
      "Val Loss:   0.5269, Val Acc:   84.54%\n",
      "Epoch 34/100\n"
     ]
    },
    {
     "name": "stderr",
     "output_type": "stream",
     "text": [
      "                                                           \r"
     ]
    },
    {
     "name": "stdout",
     "output_type": "stream",
     "text": [
      "Train Loss: 0.1460, Train Acc: 94.79%\n",
      "Val Loss:   0.4935, Val Acc:   85.58%\n",
      "Epoch 35/100\n"
     ]
    },
    {
     "name": "stderr",
     "output_type": "stream",
     "text": [
      "                                                           \r"
     ]
    },
    {
     "name": "stdout",
     "output_type": "stream",
     "text": [
      "Train Loss: 0.1348, Train Acc: 95.20%\n",
      "Val Loss:   0.4332, Val Acc:   87.46%\n",
      "Best model updated at epoch 35\n",
      "Epoch 36/100\n"
     ]
    },
    {
     "name": "stderr",
     "output_type": "stream",
     "text": [
      "                                                           \r"
     ]
    },
    {
     "name": "stdout",
     "output_type": "stream",
     "text": [
      "Train Loss: 0.1322, Train Acc: 95.27%\n",
      "Val Loss:   0.5341, Val Acc:   84.62%\n",
      "Epoch 37/100\n"
     ]
    },
    {
     "name": "stderr",
     "output_type": "stream",
     "text": [
      "                                                           \r"
     ]
    },
    {
     "name": "stdout",
     "output_type": "stream",
     "text": [
      "Train Loss: 0.1304, Train Acc: 95.36%\n",
      "Val Loss:   0.4683, Val Acc:   86.34%\n",
      "Epoch 38/100\n"
     ]
    },
    {
     "name": "stderr",
     "output_type": "stream",
     "text": [
      "                                                           \r"
     ]
    },
    {
     "name": "stdout",
     "output_type": "stream",
     "text": [
      "Train Loss: 0.1203, Train Acc: 95.60%\n",
      "Val Loss:   0.4815, Val Acc:   86.64%\n",
      "Epoch 39/100\n"
     ]
    },
    {
     "name": "stderr",
     "output_type": "stream",
     "text": [
      "                                                           \r"
     ]
    },
    {
     "name": "stdout",
     "output_type": "stream",
     "text": [
      "Train Loss: 0.1160, Train Acc: 95.94%\n",
      "Val Loss:   0.4531, Val Acc:   87.18%\n",
      "Epoch 40/100\n"
     ]
    },
    {
     "name": "stderr",
     "output_type": "stream",
     "text": [
      "                                                           \r"
     ]
    },
    {
     "name": "stdout",
     "output_type": "stream",
     "text": [
      "Train Loss: 0.1119, Train Acc: 96.13%\n",
      "Val Loss:   0.4732, Val Acc:   86.78%\n",
      "Epoch 41/100\n"
     ]
    },
    {
     "name": "stderr",
     "output_type": "stream",
     "text": [
      "                                                           \r"
     ]
    },
    {
     "name": "stdout",
     "output_type": "stream",
     "text": [
      "Train Loss: 0.1091, Train Acc: 96.17%\n",
      "Val Loss:   0.4546, Val Acc:   87.54%\n",
      "Epoch 42/100\n"
     ]
    },
    {
     "name": "stderr",
     "output_type": "stream",
     "text": [
      "                                                           \r"
     ]
    },
    {
     "name": "stdout",
     "output_type": "stream",
     "text": [
      "Train Loss: 0.1061, Train Acc: 96.29%\n",
      "Val Loss:   0.5132, Val Acc:   85.80%\n",
      "Epoch 43/100\n"
     ]
    },
    {
     "name": "stderr",
     "output_type": "stream",
     "text": [
      "                                                           \r"
     ]
    },
    {
     "name": "stdout",
     "output_type": "stream",
     "text": [
      "Train Loss: 0.1000, Train Acc: 96.42%\n",
      "Val Loss:   0.4577, Val Acc:   87.34%\n",
      "Epoch 44/100\n"
     ]
    },
    {
     "name": "stderr",
     "output_type": "stream",
     "text": [
      "                                                           \r"
     ]
    },
    {
     "name": "stdout",
     "output_type": "stream",
     "text": [
      "Train Loss: 0.0952, Train Acc: 96.66%\n",
      "Val Loss:   0.5309, Val Acc:   85.80%\n",
      "Epoch 45/100\n"
     ]
    },
    {
     "name": "stderr",
     "output_type": "stream",
     "text": [
      "                                                           \r"
     ]
    },
    {
     "name": "stdout",
     "output_type": "stream",
     "text": [
      "Train Loss: 0.0956, Train Acc: 96.61%\n",
      "Val Loss:   0.4770, Val Acc:   86.98%\n",
      "Epoch 46/100\n"
     ]
    },
    {
     "name": "stderr",
     "output_type": "stream",
     "text": [
      "                                                           \r"
     ]
    },
    {
     "name": "stdout",
     "output_type": "stream",
     "text": [
      "Train Loss: 0.0918, Train Acc: 96.73%\n",
      "Val Loss:   0.5207, Val Acc:   86.46%\n",
      "Epoch 47/100\n"
     ]
    },
    {
     "name": "stderr",
     "output_type": "stream",
     "text": [
      "                                                           \r"
     ]
    },
    {
     "name": "stdout",
     "output_type": "stream",
     "text": [
      "Train Loss: 0.0907, Train Acc: 96.79%\n",
      "Val Loss:   0.5809, Val Acc:   85.50%\n",
      "Epoch 48/100\n"
     ]
    },
    {
     "name": "stderr",
     "output_type": "stream",
     "text": [
      "                                                           \r"
     ]
    },
    {
     "name": "stdout",
     "output_type": "stream",
     "text": [
      "Train Loss: 0.0846, Train Acc: 96.98%\n",
      "Val Loss:   0.4791, Val Acc:   87.18%\n",
      "Epoch 49/100\n"
     ]
    },
    {
     "name": "stderr",
     "output_type": "stream",
     "text": [
      "                                                           \r"
     ]
    },
    {
     "name": "stdout",
     "output_type": "stream",
     "text": [
      "Train Loss: 0.0849, Train Acc: 96.96%\n",
      "Val Loss:   0.5747, Val Acc:   85.80%\n",
      "Epoch 50/100\n"
     ]
    },
    {
     "name": "stderr",
     "output_type": "stream",
     "text": [
      "                                                           \r"
     ]
    },
    {
     "name": "stdout",
     "output_type": "stream",
     "text": [
      "Train Loss: 0.0807, Train Acc: 97.22%\n",
      "Val Loss:   0.5604, Val Acc:   85.92%\n",
      "Epoch 51/100\n"
     ]
    },
    {
     "name": "stderr",
     "output_type": "stream",
     "text": [
      "                                                           \r"
     ]
    },
    {
     "name": "stdout",
     "output_type": "stream",
     "text": [
      "Train Loss: 0.0784, Train Acc: 97.27%\n",
      "Val Loss:   0.5376, Val Acc:   86.22%\n",
      "Epoch 52/100\n"
     ]
    },
    {
     "name": "stderr",
     "output_type": "stream",
     "text": [
      "                                                           \r"
     ]
    },
    {
     "name": "stdout",
     "output_type": "stream",
     "text": [
      "Train Loss: 0.0745, Train Acc: 97.36%\n",
      "Val Loss:   0.5095, Val Acc:   87.48%\n",
      "Epoch 53/100\n"
     ]
    },
    {
     "name": "stderr",
     "output_type": "stream",
     "text": [
      "                                                           \r"
     ]
    },
    {
     "name": "stdout",
     "output_type": "stream",
     "text": [
      "Train Loss: 0.0742, Train Acc: 97.44%\n",
      "Val Loss:   0.4500, Val Acc:   88.38%\n",
      "Epoch 54/100\n"
     ]
    },
    {
     "name": "stderr",
     "output_type": "stream",
     "text": [
      "                                                           \r"
     ]
    },
    {
     "name": "stdout",
     "output_type": "stream",
     "text": [
      "Train Loss: 0.0697, Train Acc: 97.56%\n",
      "Val Loss:   0.4366, Val Acc:   88.60%\n",
      "Epoch 55/100\n"
     ]
    },
    {
     "name": "stderr",
     "output_type": "stream",
     "text": [
      "                                                           \r"
     ]
    },
    {
     "name": "stdout",
     "output_type": "stream",
     "text": [
      "Train Loss: 0.0732, Train Acc: 97.42%\n",
      "Val Loss:   0.4481, Val Acc:   87.90%\n",
      "Epoch 56/100\n"
     ]
    },
    {
     "name": "stderr",
     "output_type": "stream",
     "text": [
      "                                                           \r"
     ]
    },
    {
     "name": "stdout",
     "output_type": "stream",
     "text": [
      "Train Loss: 0.0671, Train Acc: 97.63%\n",
      "Val Loss:   0.5333, Val Acc:   86.42%\n",
      "Epoch 57/100\n"
     ]
    },
    {
     "name": "stderr",
     "output_type": "stream",
     "text": [
      "                                                           \r"
     ]
    },
    {
     "name": "stdout",
     "output_type": "stream",
     "text": [
      "Train Loss: 0.0649, Train Acc: 97.74%\n",
      "Val Loss:   0.4442, Val Acc:   88.52%\n",
      "Epoch 58/100\n"
     ]
    },
    {
     "name": "stderr",
     "output_type": "stream",
     "text": [
      "                                                           \r"
     ]
    },
    {
     "name": "stdout",
     "output_type": "stream",
     "text": [
      "Train Loss: 0.0643, Train Acc: 97.75%\n",
      "Val Loss:   0.6357, Val Acc:   85.70%\n",
      "Epoch 59/100\n"
     ]
    },
    {
     "name": "stderr",
     "output_type": "stream",
     "text": [
      "                                                           \r"
     ]
    },
    {
     "name": "stdout",
     "output_type": "stream",
     "text": [
      "Train Loss: 0.0618, Train Acc: 97.77%\n",
      "Val Loss:   0.5161, Val Acc:   87.38%\n",
      "Epoch 60/100\n"
     ]
    },
    {
     "name": "stderr",
     "output_type": "stream",
     "text": [
      "                                                           \r"
     ]
    },
    {
     "name": "stdout",
     "output_type": "stream",
     "text": [
      "Train Loss: 0.0600, Train Acc: 97.88%\n",
      "Val Loss:   0.4913, Val Acc:   87.74%\n",
      "Epoch 61/100\n"
     ]
    },
    {
     "name": "stderr",
     "output_type": "stream",
     "text": [
      "                                                           \r"
     ]
    },
    {
     "name": "stdout",
     "output_type": "stream",
     "text": [
      "Train Loss: 0.0584, Train Acc: 97.99%\n",
      "Val Loss:   0.4903, Val Acc:   88.02%\n",
      "Epoch 62/100\n"
     ]
    },
    {
     "name": "stderr",
     "output_type": "stream",
     "text": [
      "                                                           \r"
     ]
    },
    {
     "name": "stdout",
     "output_type": "stream",
     "text": [
      "Train Loss: 0.0580, Train Acc: 97.93%\n",
      "Val Loss:   0.4348, Val Acc:   88.76%\n",
      "Epoch 63/100\n"
     ]
    },
    {
     "name": "stderr",
     "output_type": "stream",
     "text": [
      "                                                           \r"
     ]
    },
    {
     "name": "stdout",
     "output_type": "stream",
     "text": [
      "Train Loss: 0.0580, Train Acc: 98.00%\n",
      "Val Loss:   0.5361, Val Acc:   86.88%\n",
      "Epoch 64/100\n"
     ]
    },
    {
     "name": "stderr",
     "output_type": "stream",
     "text": [
      "                                                           \r"
     ]
    },
    {
     "name": "stdout",
     "output_type": "stream",
     "text": [
      "Train Loss: 0.0574, Train Acc: 97.92%\n",
      "Val Loss:   0.5318, Val Acc:   87.58%\n",
      "Epoch 65/100\n"
     ]
    },
    {
     "name": "stderr",
     "output_type": "stream",
     "text": [
      "                                                           \r"
     ]
    },
    {
     "name": "stdout",
     "output_type": "stream",
     "text": [
      "Train Loss: 0.0542, Train Acc: 98.12%\n",
      "Val Loss:   0.5275, Val Acc:   87.20%\n",
      "Epoch 66/100\n"
     ]
    },
    {
     "name": "stderr",
     "output_type": "stream",
     "text": [
      "                                                           \r"
     ]
    },
    {
     "name": "stdout",
     "output_type": "stream",
     "text": [
      "Train Loss: 0.0527, Train Acc: 98.08%\n",
      "Val Loss:   0.4954, Val Acc:   88.36%\n",
      "Epoch 67/100\n"
     ]
    },
    {
     "name": "stderr",
     "output_type": "stream",
     "text": [
      "                                                           \r"
     ]
    },
    {
     "name": "stdout",
     "output_type": "stream",
     "text": [
      "Train Loss: 0.0502, Train Acc: 98.28%\n",
      "Val Loss:   0.4858, Val Acc:   88.48%\n",
      "Epoch 68/100\n"
     ]
    },
    {
     "name": "stderr",
     "output_type": "stream",
     "text": [
      "                                                           \r"
     ]
    },
    {
     "name": "stdout",
     "output_type": "stream",
     "text": [
      "Train Loss: 0.0502, Train Acc: 98.24%\n",
      "Val Loss:   0.5043, Val Acc:   88.00%\n",
      "Epoch 69/100\n"
     ]
    },
    {
     "name": "stderr",
     "output_type": "stream",
     "text": [
      "                                                           \r"
     ]
    },
    {
     "name": "stdout",
     "output_type": "stream",
     "text": [
      "Train Loss: 0.0505, Train Acc: 98.22%\n",
      "Val Loss:   0.4759, Val Acc:   89.36%\n",
      "Epoch 70/100\n"
     ]
    },
    {
     "name": "stderr",
     "output_type": "stream",
     "text": [
      "                                                           \r"
     ]
    },
    {
     "name": "stdout",
     "output_type": "stream",
     "text": [
      "Train Loss: 0.0496, Train Acc: 98.24%\n",
      "Val Loss:   0.4959, Val Acc:   88.04%\n",
      "Epoch 71/100\n"
     ]
    },
    {
     "name": "stderr",
     "output_type": "stream",
     "text": [
      "                                                           \r"
     ]
    },
    {
     "name": "stdout",
     "output_type": "stream",
     "text": [
      "Train Loss: 0.0472, Train Acc: 98.32%\n",
      "Val Loss:   0.5396, Val Acc:   87.52%\n",
      "Epoch 72/100\n"
     ]
    },
    {
     "name": "stderr",
     "output_type": "stream",
     "text": [
      "                                                           \r"
     ]
    },
    {
     "name": "stdout",
     "output_type": "stream",
     "text": [
      "Train Loss: 0.0481, Train Acc: 98.34%\n",
      "Val Loss:   0.5193, Val Acc:   87.96%\n",
      "Epoch 73/100\n"
     ]
    },
    {
     "name": "stderr",
     "output_type": "stream",
     "text": [
      "                                                           \r"
     ]
    },
    {
     "name": "stdout",
     "output_type": "stream",
     "text": [
      "Train Loss: 0.0450, Train Acc: 98.42%\n",
      "Val Loss:   0.5281, Val Acc:   88.16%\n",
      "Epoch 74/100\n"
     ]
    },
    {
     "name": "stderr",
     "output_type": "stream",
     "text": [
      "                                                           \r"
     ]
    },
    {
     "name": "stdout",
     "output_type": "stream",
     "text": [
      "Train Loss: 0.0466, Train Acc: 98.37%\n",
      "Val Loss:   0.5087, Val Acc:   88.18%\n",
      "Epoch 75/100\n"
     ]
    },
    {
     "name": "stderr",
     "output_type": "stream",
     "text": [
      "                                                           \r"
     ]
    },
    {
     "name": "stdout",
     "output_type": "stream",
     "text": [
      "Train Loss: 0.0197, Train Acc: 99.38%\n",
      "Val Loss:   0.4013, Val Acc:   90.56%\n",
      "Best model updated at epoch 75\n",
      "Epoch 76/100\n"
     ]
    },
    {
     "name": "stderr",
     "output_type": "stream",
     "text": [
      "                                                           \r"
     ]
    },
    {
     "name": "stdout",
     "output_type": "stream",
     "text": [
      "Train Loss: 0.0113, Train Acc: 99.67%\n",
      "Val Loss:   0.3991, Val Acc:   90.74%\n",
      "Best model updated at epoch 76\n",
      "Epoch 77/100\n"
     ]
    },
    {
     "name": "stderr",
     "output_type": "stream",
     "text": [
      "                                                           \r"
     ]
    },
    {
     "name": "stdout",
     "output_type": "stream",
     "text": [
      "Train Loss: 0.0086, Train Acc: 99.80%\n",
      "Val Loss:   0.3634, Val Acc:   91.46%\n",
      "Best model updated at epoch 77\n",
      "Epoch 78/100\n"
     ]
    },
    {
     "name": "stderr",
     "output_type": "stream",
     "text": [
      "                                                           \r"
     ]
    },
    {
     "name": "stdout",
     "output_type": "stream",
     "text": [
      "Train Loss: 0.0078, Train Acc: 99.77%\n",
      "Val Loss:   0.3896, Val Acc:   90.96%\n",
      "Epoch 79/100\n"
     ]
    },
    {
     "name": "stderr",
     "output_type": "stream",
     "text": [
      "                                                           \r"
     ]
    },
    {
     "name": "stdout",
     "output_type": "stream",
     "text": [
      "Train Loss: 0.0069, Train Acc: 99.82%\n",
      "Val Loss:   0.3936, Val Acc:   90.96%\n",
      "Epoch 80/100\n"
     ]
    },
    {
     "name": "stderr",
     "output_type": "stream",
     "text": [
      "                                                           \r"
     ]
    },
    {
     "name": "stdout",
     "output_type": "stream",
     "text": [
      "Train Loss: 0.0068, Train Acc: 99.83%\n",
      "Val Loss:   0.3921, Val Acc:   91.10%\n",
      "Epoch 81/100\n"
     ]
    },
    {
     "name": "stderr",
     "output_type": "stream",
     "text": [
      "                                                           \r"
     ]
    },
    {
     "name": "stdout",
     "output_type": "stream",
     "text": [
      "Train Loss: 0.0055, Train Acc: 99.90%\n",
      "Val Loss:   0.4125, Val Acc:   91.06%\n",
      "Epoch 82/100\n"
     ]
    },
    {
     "name": "stderr",
     "output_type": "stream",
     "text": [
      "                                                           \r"
     ]
    },
    {
     "name": "stdout",
     "output_type": "stream",
     "text": [
      "Train Loss: 0.0051, Train Acc: 99.91%\n",
      "Val Loss:   0.4024, Val Acc:   91.18%\n",
      "Epoch 83/100\n"
     ]
    },
    {
     "name": "stderr",
     "output_type": "stream",
     "text": [
      "                                                           \r"
     ]
    },
    {
     "name": "stdout",
     "output_type": "stream",
     "text": [
      "Train Loss: 0.0055, Train Acc: 99.86%\n",
      "Val Loss:   0.4029, Val Acc:   90.98%\n",
      "Epoch 84/100\n"
     ]
    },
    {
     "name": "stderr",
     "output_type": "stream",
     "text": [
      "                                                           \r"
     ]
    },
    {
     "name": "stdout",
     "output_type": "stream",
     "text": [
      "Train Loss: 0.0052, Train Acc: 99.88%\n",
      "Val Loss:   0.3902, Val Acc:   91.10%\n",
      "Epoch 85/100\n"
     ]
    },
    {
     "name": "stderr",
     "output_type": "stream",
     "text": [
      "                                                           \r"
     ]
    },
    {
     "name": "stdout",
     "output_type": "stream",
     "text": [
      "Train Loss: 0.0047, Train Acc: 99.90%\n",
      "Val Loss:   0.4085, Val Acc:   90.74%\n",
      "Epoch 86/100\n"
     ]
    },
    {
     "name": "stderr",
     "output_type": "stream",
     "text": [
      "                                                           \r"
     ]
    },
    {
     "name": "stdout",
     "output_type": "stream",
     "text": [
      "Train Loss: 0.0040, Train Acc: 99.93%\n",
      "Val Loss:   0.4003, Val Acc:   91.22%\n",
      "Epoch 87/100\n"
     ]
    },
    {
     "name": "stderr",
     "output_type": "stream",
     "text": [
      "                                                           \r"
     ]
    },
    {
     "name": "stdout",
     "output_type": "stream",
     "text": [
      "Train Loss: 0.0039, Train Acc: 99.94%\n",
      "Val Loss:   0.4130, Val Acc:   91.02%\n",
      "Epoch 88/100\n"
     ]
    },
    {
     "name": "stderr",
     "output_type": "stream",
     "text": [
      "                                                           \r"
     ]
    },
    {
     "name": "stdout",
     "output_type": "stream",
     "text": [
      "Train Loss: 0.0040, Train Acc: 99.92%\n",
      "Val Loss:   0.4211, Val Acc:   91.06%\n",
      "Epoch 89/100\n"
     ]
    },
    {
     "name": "stderr",
     "output_type": "stream",
     "text": [
      "                                                           \r"
     ]
    },
    {
     "name": "stdout",
     "output_type": "stream",
     "text": [
      "Train Loss: 0.0039, Train Acc: 99.93%\n",
      "Val Loss:   0.4071, Val Acc:   90.66%\n",
      "Epoch 90/100\n"
     ]
    },
    {
     "name": "stderr",
     "output_type": "stream",
     "text": [
      "                                                           \r"
     ]
    },
    {
     "name": "stdout",
     "output_type": "stream",
     "text": [
      "Train Loss: 0.0031, Train Acc: 99.94%\n",
      "Val Loss:   0.3965, Val Acc:   91.26%\n",
      "Epoch 91/100\n"
     ]
    },
    {
     "name": "stderr",
     "output_type": "stream",
     "text": [
      "                                                           \r"
     ]
    },
    {
     "name": "stdout",
     "output_type": "stream",
     "text": [
      "Train Loss: 0.0031, Train Acc: 99.95%\n",
      "Val Loss:   0.4118, Val Acc:   90.84%\n",
      "Epoch 92/100\n"
     ]
    },
    {
     "name": "stderr",
     "output_type": "stream",
     "text": [
      "                                                           \r"
     ]
    },
    {
     "name": "stdout",
     "output_type": "stream",
     "text": [
      "Train Loss: 0.0033, Train Acc: 99.93%\n",
      "Val Loss:   0.4104, Val Acc:   91.00%\n",
      "Epoch 93/100\n"
     ]
    },
    {
     "name": "stderr",
     "output_type": "stream",
     "text": [
      "                                                           \r"
     ]
    },
    {
     "name": "stdout",
     "output_type": "stream",
     "text": [
      "Train Loss: 0.0033, Train Acc: 99.93%\n",
      "Val Loss:   0.4060, Val Acc:   91.62%\n",
      "Epoch 94/100\n"
     ]
    },
    {
     "name": "stderr",
     "output_type": "stream",
     "text": [
      "                                                           \r"
     ]
    },
    {
     "name": "stdout",
     "output_type": "stream",
     "text": [
      "Train Loss: 0.0035, Train Acc: 99.94%\n",
      "Val Loss:   0.3964, Val Acc:   91.20%\n",
      "Epoch 95/100\n"
     ]
    },
    {
     "name": "stderr",
     "output_type": "stream",
     "text": [
      "                                                           \r"
     ]
    },
    {
     "name": "stdout",
     "output_type": "stream",
     "text": [
      "Train Loss: 0.0030, Train Acc: 99.95%\n",
      "Val Loss:   0.4017, Val Acc:   91.24%\n",
      "Epoch 96/100\n"
     ]
    },
    {
     "name": "stderr",
     "output_type": "stream",
     "text": [
      "                                                           \r"
     ]
    },
    {
     "name": "stdout",
     "output_type": "stream",
     "text": [
      "Train Loss: 0.0032, Train Acc: 99.95%\n",
      "Val Loss:   0.3912, Val Acc:   91.34%\n",
      "Epoch 97/100\n"
     ]
    },
    {
     "name": "stderr",
     "output_type": "stream",
     "text": [
      "                                                           \r"
     ]
    },
    {
     "name": "stdout",
     "output_type": "stream",
     "text": [
      "Train Loss: 0.0029, Train Acc: 99.96%\n",
      "Val Loss:   0.3915, Val Acc:   91.52%\n",
      "Epoch 98/100\n"
     ]
    },
    {
     "name": "stderr",
     "output_type": "stream",
     "text": [
      "                                                           \r"
     ]
    },
    {
     "name": "stdout",
     "output_type": "stream",
     "text": [
      "Train Loss: 0.0029, Train Acc: 99.94%\n",
      "Val Loss:   0.4062, Val Acc:   91.06%\n",
      "Epoch 99/100\n"
     ]
    },
    {
     "name": "stderr",
     "output_type": "stream",
     "text": [
      "                                                           \r"
     ]
    },
    {
     "name": "stdout",
     "output_type": "stream",
     "text": [
      "Train Loss: 0.0029, Train Acc: 99.96%\n",
      "Val Loss:   0.4012, Val Acc:   91.12%\n",
      "Epoch 100/100\n"
     ]
    },
    {
     "name": "stderr",
     "output_type": "stream",
     "text": [
      "                                                           \r"
     ]
    },
    {
     "name": "stdout",
     "output_type": "stream",
     "text": [
      "Train Loss: 0.0031, Train Acc: 99.94%\n",
      "Val Loss:   0.3986, Val Acc:   91.38%\n",
      "Training Done\n",
      "================================================================\n"
     ]
    },
    {
     "name": "stderr",
     "output_type": "stream",
     "text": [
      "                                                           "
     ]
    },
    {
     "name": "stdout",
     "output_type": "stream",
     "text": [
      "Test accuracy: 0.4150451172828674\n"
     ]
    },
    {
     "name": "stderr",
     "output_type": "stream",
     "text": [
      "\r"
     ]
    }
   ],
   "source": [
    "if __name__ == '__main__':\n",
    "    main()"
   ]
  },
  {
   "cell_type": "code",
   "execution_count": null,
   "metadata": {},
   "outputs": [],
   "source": [
    "_, test_acc = validate(model, dataloader=test_loader_cifar, criterion=nn.CrossEntropyLoss(), device=device)\n",
    "print(f\"Test accuracy: {test_acc}\")"
   ]
  },
  {
   "cell_type": "code",
   "execution_count": null,
   "metadata": {},
   "outputs": [],
   "source": []
  }
 ],
 "metadata": {
  "kernelspec": {
   "display_name": "pytorch-env",
   "language": "python",
   "name": "python3"
  },
  "language_info": {
   "codemirror_mode": {
    "name": "ipython",
    "version": 3
   },
   "file_extension": ".py",
   "mimetype": "text/x-python",
   "name": "python",
   "nbconvert_exporter": "python",
   "pygments_lexer": "ipython3",
   "version": "3.9.9"
  }
 },
 "nbformat": 4,
 "nbformat_minor": 2
}
